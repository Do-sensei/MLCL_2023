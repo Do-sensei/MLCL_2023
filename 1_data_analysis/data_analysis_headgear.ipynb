{
 "cells": [
  {
   "cell_type": "code",
   "execution_count": null,
   "metadata": {},
   "outputs": [],
   "source": [
    "import os\n",
    "import pandas as pd\n",
    "\n",
    "import numpy as np\n",
    "\n",
    "import matplotlib.pyplot as plt\n",
    "import cv2"
   ]
  },
  {
   "attachments": {},
   "cell_type": "markdown",
   "metadata": {},
   "source": [
    "# 1. Data Load"
   ]
  },
  {
   "attachments": {},
   "cell_type": "markdown",
   "metadata": {},
   "source": [
    "## Check the data list of the headgear"
   ]
  },
  {
   "cell_type": "code",
   "execution_count": null,
   "metadata": {},
   "outputs": [],
   "source": [
    "data_dir = '../data'\n",
    "headgear_dir = os.path.join(data_dir, 'headgear')\n",
    "print(os.listdir(headgear_dir))"
   ]
  },
  {
   "cell_type": "code",
   "execution_count": null,
   "metadata": {},
   "outputs": [],
   "source": [
    "headgear_csv = os.path.join(headgear_dir, 'headgear.csv')\n",
    "print(headgear_csv)"
   ]
  },
  {
   "attachments": {},
   "cell_type": "markdown",
   "metadata": {},
   "source": [
    "- Load the data from the csv file"
   ]
  },
  {
   "cell_type": "code",
   "execution_count": null,
   "metadata": {},
   "outputs": [],
   "source": [
    "headgear_df = pd.read_csv(headgear_csv)"
   ]
  },
  {
   "attachments": {},
   "cell_type": "markdown",
   "metadata": {},
   "source": [
    "# 2. Data Analysis\n",
    "\n",
    "## Check the data"
   ]
  },
  {
   "cell_type": "code",
   "execution_count": null,
   "metadata": {},
   "outputs": [],
   "source": [
    "print(headgear_df)"
   ]
  },
  {
   "attachments": {},
   "cell_type": "markdown",
   "metadata": {},
   "source": [
    "## Plot the data distribution"
   ]
  },
  {
   "cell_type": "code",
   "execution_count": null,
   "metadata": {},
   "outputs": [],
   "source": [
    "headgear_df['data set'].value_counts().plot(kind='bar')\n",
    "\n",
    "plt.title('Data set distribution')\n",
    "plt.xlabel('Data set')\n",
    "plt.ylabel('Count')\n",
    "\n",
    "for i in range(len(headgear_df['data set'].value_counts())):\n",
    "    plt.text(i, headgear_df['data set'].value_counts()[i], headgear_df['data set'].value_counts()[i], ha='center', va='bottom')\n",
    "    \n",
    "plt.show()"
   ]
  },
  {
   "cell_type": "code",
   "execution_count": null,
   "metadata": {},
   "outputs": [],
   "source": [
    "headgear_df['data set'].value_counts()"
   ]
  },
  {
   "cell_type": "code",
   "execution_count": null,
   "metadata": {},
   "outputs": [],
   "source": [
    "headgear_dir"
   ]
  },
  {
   "attachments": {},
   "cell_type": "markdown",
   "metadata": {},
   "source": [
    "## Plot the data sample"
   ]
  },
  {
   "cell_type": "code",
   "execution_count": null,
   "metadata": {},
   "outputs": [],
   "source": [
    "image_path = os.path.join(headgear_dir, headgear_df['filepaths'][0])\n",
    "print(image_path)"
   ]
  },
  {
   "cell_type": "code",
   "execution_count": null,
   "metadata": {},
   "outputs": [],
   "source": [
    "image = cv2.imread(image_path)\n",
    "print('Image Size: ', image.shape)\n",
    "\n",
    "plt.imshow(image)\n",
    "plt.title('Image')"
   ]
  },
  {
   "attachments": {},
   "cell_type": "markdown",
   "metadata": {},
   "source": [
    "### Plot the data sample with Transformed Image"
   ]
  },
  {
   "cell_type": "code",
   "execution_count": null,
   "metadata": {},
   "outputs": [],
   "source": [
    "from torchvision import transforms\n",
    "from PIL import Image\n",
    "import torch\n",
    "\n",
    "# Define the individual transforms\n",
    "transformations = {\n",
    "    \"Original\": None,\n",
    "    \"Horizontal Flip\": transforms.RandomHorizontalFlip(p=1),  # p=1 to always apply the flip\n",
    "    \"Vertical Flip\": transforms.RandomVerticalFlip(p=1),\n",
    "    \"Rotation\": transforms.RandomRotation(30),\n",
    "    \"Center Crop\": transforms.CenterCrop(64),\n",
    "    \"Blur\": transforms.GaussianBlur(5),  # you can blur kernel size = {3, 5, 7} and check the image\n",
    "    \"To Tensor\": transforms.ToTensor(),\n",
    "}\n",
    "\n",
    "# Select 3 sample images\n",
    "sample_images = [headgear_df['filepaths'][i] for i in range(3)]\n",
    "\n",
    "fig, axs = plt.subplots(len(sample_images), len(transformations), figsize=(20, 15))\n",
    "\n",
    "for i, filepath in enumerate(sample_images):\n",
    "    image_path = os.path.join(headgear_dir, filepath)\n",
    "    image = Image.open(image_path).convert('RGB')  # ensure we always start with a 3 channel image\n",
    "\n",
    "    for j, (transformation_name, transformation) in enumerate(transformations.items()):\n",
    "        if transformation:\n",
    "            transformed_image = transformation(image)\n",
    "            if transformation_name == 'To Tensor':\n",
    "                image = transformed_image  # From this point forward, work with tensor instead of PIL image\n",
    "        else:\n",
    "            transformed_image = image\n",
    "\n",
    "        if isinstance(transformed_image, torch.Tensor):\n",
    "            # Convert tensor to numpy array for visualization\n",
    "            transformed_image = transformed_image.permute(1, 2, 0).numpy()\n",
    "\n",
    "        axs[i, j].imshow(transformed_image)\n",
    "        axs[i, j].set_title(f\"{transformation_name} Image\")\n",
    "\n",
    "plt.tight_layout()\n",
    "plt.show()\n",
    "\n"
   ]
  },
  {
   "attachments": {},
   "cell_type": "markdown",
   "metadata": {},
   "source": [
    "# 3. Split the data\n",
    "- This dataset is already split into train and test set. So, we don't need to split the data."
   ]
  },
  {
   "cell_type": "code",
   "execution_count": null,
   "metadata": {},
   "outputs": [],
   "source": [
    "train_data_df = headgear_df[headgear_df['data set'] == 'train']\n",
    "valid_data_df = headgear_df[headgear_df['data set'] == 'valid']\n",
    "test_data_df = headgear_df[headgear_df['data set'] == 'test']"
   ]
  },
  {
   "attachments": {},
   "cell_type": "markdown",
   "metadata": {},
   "source": [
    "- Image to Tensor"
   ]
  },
  {
   "cell_type": "code",
   "execution_count": null,
   "metadata": {},
   "outputs": [],
   "source": [
    "train_data = []\n",
    "train_labels = []\n",
    "\n",
    "for index, row in train_data_df.iterrows():\n",
    "    image_path = os.path.join(headgear_dir, row['filepaths'])\n",
    "    image = cv2.imread(image_path)\n",
    "    train_data.append(image)\n",
    "    train_labels.append(row['labels'])"
   ]
  },
  {
   "cell_type": "code",
   "execution_count": null,
   "metadata": {},
   "outputs": [],
   "source": [
    "print('Train Data: ', len(train_data))\n",
    "print('Train Labels: ', len(train_labels))\n",
    "print('Train Data Shape: ', train_data[0].shape)"
   ]
  }
 ],
 "metadata": {
  "kernelspec": {
   "display_name": "mlcl",
   "language": "python",
   "name": "python3"
  },
  "language_info": {
   "codemirror_mode": {
    "name": "ipython",
    "version": 3
   },
   "file_extension": ".py",
   "mimetype": "text/x-python",
   "name": "python",
   "nbconvert_exporter": "python",
   "pygments_lexer": "ipython3",
   "version": "3.8.16"
  },
  "orig_nbformat": 4
 },
 "nbformat": 4,
 "nbformat_minor": 2
}
