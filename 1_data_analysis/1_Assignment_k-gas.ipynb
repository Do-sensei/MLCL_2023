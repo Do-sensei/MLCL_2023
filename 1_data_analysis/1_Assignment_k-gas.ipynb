{
 "cells": [
  {
   "attachments": {},
   "cell_type": "markdown",
   "metadata": {},
   "source": [
    "# Assginment (2023-06-15 ~ 2023-06-22)\n",
    "\n",
    "## 1. `k-gas` Dataset\n",
    "\n",
    "### 1. Make the *data load function* with numpy array for `Gas sales` and `temperature`"
   ]
  },
  {
   "attachments": {},
   "cell_type": "markdown",
   "metadata": {},
   "source": [
    "- import *module*"
   ]
  },
  {
   "cell_type": "code",
   "execution_count": null,
   "metadata": {},
   "outputs": [],
   "source": [
    "import pandas as pd\n",
    "import os"
   ]
  },
  {
   "attachments": {},
   "cell_type": "markdown",
   "metadata": {},
   "source": [
    "- set the *data directory*"
   ]
  },
  {
   "cell_type": "code",
   "execution_count": null,
   "metadata": {},
   "outputs": [],
   "source": [
    "data_dir = '../data/'\n",
    "k_gas_dir = os.path.join(data_dir, 'k-gas') # k-gas data directory"
   ]
  },
  {
   "attachments": {},
   "cell_type": "markdown",
   "metadata": {},
   "source": [
    "#### 1. Load the csv file\n",
    "- use `pd.read_csv()` function\n",
    "\n",
    "#### 2. Drop the columns\n",
    "- use `drop()` function\n",
    "\n",
    "#### 4. Convert to numpy array\n",
    "- use `to_numpy()` function"
   ]
  },
  {
   "cell_type": "code",
   "execution_count": null,
   "metadata": {},
   "outputs": [],
   "source": [
    "def data_load_with_numpy_array(csv):\n",
    "    '''\n",
    "    input your code in below\n",
    "    '''\n",
    "    # ## 1. Load the csv file\n",
    "    # k_gas = # input your code\n",
    "    # #########\n",
    "    \n",
    "    # ## 2. Drop the columns('Year', 'Month', 'Sum')\n",
    "    # k_gas_df = # input your code\n",
    "    # #########\n",
    "    \n",
    "    # ## 3. Split the dataframe into two parts with the columns('Temperature') and the other columns\n",
    "    # k_gas_temp_df = # input your code\n",
    "    # k_gas_data_df = # input your code\n",
    "    # #########\n",
    "    \n",
    "    # ## 4. Convert the dataframe to numpy array\n",
    "    # k_gas_temp = # input your code\n",
    "    # k_gas_data = # input your code\n",
    "    # #########\n",
    "    \n",
    "    label = k_gas_temp\n",
    "    data = k_gas_data\n",
    "    \n",
    "    return data, label"
   ]
  },
  {
   "cell_type": "code",
   "execution_count": null,
   "metadata": {},
   "outputs": [],
   "source": [
    "k_gas_csv = 'Gas sales with temperature.csv'\n",
    "\n",
    "data, label = data_load_with_numpy_array(csv=k_gas_csv)"
   ]
  },
  {
   "attachments": {},
   "cell_type": "markdown",
   "metadata": {},
   "source": [
    "##### Check the data with `numpy` array\n",
    "\n",
    "- `data type:  <class 'numpy.ndarray'>` \n",
    "- `label type:  <class 'numpy.ndarray'>`"
   ]
  },
  {
   "cell_type": "code",
   "execution_count": null,
   "metadata": {},
   "outputs": [],
   "source": [
    "print('data type: ', type(data))\n",
    "print('label type: ', type(label))"
   ]
  },
  {
   "attachments": {},
   "cell_type": "markdown",
   "metadata": {},
   "source": [
    "- `data shape:  (252, 17)`\n",
    "- `label shape:  (252,)`"
   ]
  },
  {
   "cell_type": "code",
   "execution_count": null,
   "metadata": {},
   "outputs": [],
   "source": [
    "print('data shape: ', data.shape)\n",
    "print('label shape: ', label.shape)"
   ]
  },
  {
   "cell_type": "code",
   "execution_count": null,
   "metadata": {},
   "outputs": [],
   "source": [
    "for l, d in zip(label[:5], data[:5]):\n",
    "    print('------------------')\n",
    "    print('label: ', l)\n",
    "    print('data : ', d)"
   ]
  },
  {
   "attachments": {},
   "cell_type": "markdown",
   "metadata": {},
   "source": [
    "### 2. `Split` the data into train and test set "
   ]
  },
  {
   "cell_type": "code",
   "execution_count": null,
   "metadata": {},
   "outputs": [],
   "source": [
    "from sklearn.model_selection import train_test_split"
   ]
  },
  {
   "cell_type": "code",
   "execution_count": null,
   "metadata": {},
   "outputs": [],
   "source": [
    "### Split the data and label into train and test set\n",
    "\n",
    "#### input your code in below\n",
    "# X_train, X_test, y_train, y_test = # input your code\n",
    "#########"
   ]
  },
  {
   "attachments": {},
   "cell_type": "markdown",
   "metadata": {},
   "source": [
    "##### Check the train, test data shape"
   ]
  },
  {
   "cell_type": "code",
   "execution_count": null,
   "metadata": {},
   "outputs": [],
   "source": [
    "print('X_train shape: ', X_train.shape)\n",
    "print('X_test shape: ', X_test.shape)"
   ]
  }
 ],
 "metadata": {
  "kernelspec": {
   "display_name": "mlcl",
   "language": "python",
   "name": "python3"
  },
  "language_info": {
   "codemirror_mode": {
    "name": "ipython",
    "version": 3
   },
   "file_extension": ".py",
   "mimetype": "text/x-python",
   "name": "python",
   "nbconvert_exporter": "python",
   "pygments_lexer": "ipython3",
   "version": "3.8.16"
  },
  "orig_nbformat": 4
 },
 "nbformat": 4,
 "nbformat_minor": 2
}
