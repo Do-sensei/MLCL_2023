{
 "cells": [
  {
   "attachments": {},
   "cell_type": "markdown",
   "metadata": {},
   "source": [
    "# Assginment\n",
    "\n",
    "## 1. `k-gas` Dataset\n",
    "\n",
    "### 1. Make the *data load function* with numpy array for `Gas sales` and `temperature`"
   ]
  },
  {
   "attachments": {},
   "cell_type": "markdown",
   "metadata": {},
   "source": [
    "- import *module*"
   ]
  },
  {
   "cell_type": "code",
   "execution_count": null,
   "metadata": {},
   "outputs": [],
   "source": [
    "import pandas as pd\n",
    "import os"
   ]
  },
  {
   "attachments": {},
   "cell_type": "markdown",
   "metadata": {},
   "source": [
    "- set the *data directory*"
   ]
  },
  {
   "cell_type": "code",
   "execution_count": null,
   "metadata": {},
   "outputs": [],
   "source": [
    "data_dir = '../data/'\n",
    "k_gas_dir = os.path.join(data_dir, 'k-gas') # k-gas data directory"
   ]
  },
  {
   "attachments": {},
   "cell_type": "markdown",
   "metadata": {},
   "source": [
    "#### 1. Load the csv file\n",
    "- use `pd.read_csv()` function\n",
    "\n",
    "#### 2. Drop the columns\n",
    "- use `drop()` function\n",
    "\n",
    "#### 4. Convert to numpy array\n",
    "- use `to_numpy()` function"
   ]
  },
  {
   "cell_type": "code",
   "execution_count": null,
   "metadata": {},
   "outputs": [],
   "source": [
    "def data_load_with_numpy_array(csv):\n",
    "    '''\n",
    "    input your code in below\n",
    "    '''\n",
    "    # ## 1. Load the csv file\n",
    "    # k_gas = # input your code\n",
    "    # #########\n",
    "    \n",
    "    # ## 2. Drop the columns('Year', 'Month', 'Sum')\n",
    "    # k_gas_df = # input your code\n",
    "    # #########\n",
    "    \n",
    "    # ## 3. Split the dataframe into two parts with the columns('Temperature') and the other columns\n",
    "    # k_gas_temp_df = # input your code\n",
    "    # k_gas_data_df = # input your code\n",
    "    # #########\n",
    "    \n",
    "    # ## 4. Convert the dataframe to numpy array\n",
    "    # k_gas_temp = # input your code\n",
    "    # k_gas_data = # input your code\n",
    "    # #########\n",
    "    \n",
    "    label = k_gas_temp\n",
    "    data = k_gas_data\n",
    "    \n",
    "    return data, label"
   ]
  },
  {
   "cell_type": "code",
   "execution_count": null,
   "metadata": {},
   "outputs": [],
   "source": [
    "k_gas_csv = 'Gas sales with temperature.csv'\n",
    "\n",
    "data, label = data_load_with_numpy_array(csv=k_gas_csv)"
   ]
  },
  {
   "attachments": {},
   "cell_type": "markdown",
   "metadata": {},
   "source": [
    "##### Check the data with `numpy` array\n",
    "\n",
    "- `data type:  <class 'numpy.ndarray'>` \n",
    "- `label type:  <class 'numpy.ndarray'>`"
   ]
  },
  {
   "cell_type": "code",
   "execution_count": null,
   "metadata": {},
   "outputs": [],
   "source": [
    "print('data type: ', type(data))\n",
    "print('label type: ', type(label))"
   ]
  },
  {
   "attachments": {},
   "cell_type": "markdown",
   "metadata": {},
   "source": [
    "- `data shape:  (252, 17)`\n",
    "- `label shape:  (252,)`"
   ]
  },
  {
   "cell_type": "code",
   "execution_count": null,
   "metadata": {},
   "outputs": [],
   "source": [
    "print('data shape: ', data.shape)\n",
    "print('label shape: ', label.shape)"
   ]
  },
  {
   "cell_type": "code",
   "execution_count": null,
   "metadata": {},
   "outputs": [],
   "source": [
    "for l, d in zip(label[:5], data[:5]):\n",
    "    print('------------------')\n",
    "    print('label: ', l)\n",
    "    print('data : ', d)"
   ]
  },
  {
   "attachments": {},
   "cell_type": "markdown",
   "metadata": {},
   "source": [
    "### 2. `Split` the data into train and test set "
   ]
  },
  {
   "cell_type": "code",
   "execution_count": null,
   "metadata": {},
   "outputs": [],
   "source": [
    "from sklearn.model_selection import train_test_split"
   ]
  },
  {
   "cell_type": "code",
   "execution_count": null,
   "metadata": {},
   "outputs": [],
   "source": [
    "### Split the data and label into train and test set\n",
    "\n",
    "#### input your code in below\n",
    "# X_train, X_test, y_train, y_test = # input your code\n",
    "#########"
   ]
  },
  {
   "attachments": {},
   "cell_type": "markdown",
   "metadata": {},
   "source": [
    "##### Check the train, test data shape"
   ]
  },
  {
   "cell_type": "code",
   "execution_count": null,
   "metadata": {},
   "outputs": [],
   "source": [
    "print('X_train shape: ', X_train.shape)\n",
    "print('X_test shape: ', X_test.shape)"
   ]
  },
  {
   "attachments": {},
   "cell_type": "markdown",
   "metadata": {},
   "source": [
    "## 2. `Headgear` Dataset\n",
    "\n"
   ]
  },
  {
   "attachments": {},
   "cell_type": "markdown",
   "metadata": {},
   "source": [
    "- import *module*"
   ]
  },
  {
   "cell_type": "code",
   "execution_count": null,
   "metadata": {},
   "outputs": [],
   "source": [
    "import os\n",
    "import pandas as pd\n",
    "\n",
    "import numpy as np\n",
    "\n",
    "import matplotlib.pyplot as plt\n",
    "import cv2"
   ]
  },
  {
   "attachments": {},
   "cell_type": "markdown",
   "metadata": {},
   "source": [
    "- set the *data directory*"
   ]
  },
  {
   "cell_type": "code",
   "execution_count": null,
   "metadata": {},
   "outputs": [],
   "source": [
    "data_dir = '../data'\n",
    "headgear_dir = os.path.join(data_dir, 'headgear')\n",
    "headgear_csv = os.path.join(headgear_dir, 'headgear.csv')\n",
    "\n",
    "print(headgear_csv)"
   ]
  },
  {
   "attachments": {},
   "cell_type": "markdown",
   "metadata": {},
   "source": [
    "### 1. load the data from the csv file\n",
    "    - use `pd.read_csv()` function"
   ]
  },
  {
   "cell_type": "code",
   "execution_count": null,
   "metadata": {},
   "outputs": [],
   "source": [
    "#### input your code in below\n",
    "# headgear_df = # input your code\n",
    "#########"
   ]
  },
  {
   "attachments": {},
   "cell_type": "markdown",
   "metadata": {},
   "source": [
    "### 2. check the data count\n",
    "    - use `value_counts()` function"
   ]
  },
  {
   "cell_type": "code",
   "execution_count": null,
   "metadata": {},
   "outputs": [],
   "source": [
    "#### input your code in below\n",
    "# # input your code\n",
    "##########"
   ]
  },
  {
   "attachments": {},
   "cell_type": "markdown",
   "metadata": {},
   "source": [
    "### 3. Split the data into train, valid, test set\n",
    "- It need to filter the data with `data set` column"
   ]
  },
  {
   "cell_type": "code",
   "execution_count": null,
   "metadata": {},
   "outputs": [],
   "source": [
    "#### input your code in below\n",
    "# train_data_df = # input your code\n",
    "# valid_data_df = # input your code\n",
    "# test_data_df = # input your code\n",
    "##########"
   ]
  },
  {
   "attachments": {},
   "cell_type": "markdown",
   "metadata": {},
   "source": [
    "### 4. Make the `image_to_tensor` function\n",
    "\n",
    "- use `cv2.imread()` function"
   ]
  },
  {
   "cell_type": "code",
   "execution_count": null,
   "metadata": {},
   "outputs": [],
   "source": [
    "headgear_dir = os.path.join(data_dir, 'headgear')\n",
    "\n",
    "#### input your code in below\n",
    "def image_to_tensor(data_df):\n",
    "    data = []\n",
    "    labels = []\n",
    "\n",
    "    for index, row in data_df.iterrows():\n",
    "        image_path = os.path.join( # input your code )\n",
    "        image = # input your code\n",
    "        data.append(# input your code)\n",
    "        labels.append(# )\n",
    "\n",
    "    return np.array(data), np.array(labels)"
   ]
  },
  {
   "cell_type": "code",
   "execution_count": null,
   "metadata": {},
   "outputs": [],
   "source": [
    "train_data, train_labels = image_to_tensor(train_data_df)\n",
    "valid_data, valid_labels = image_to_tensor(valid_data_df)\n",
    "test_data, test_labels = image_to_tensor(test_data_df)"
   ]
  },
  {
   "attachments": {},
   "cell_type": "markdown",
   "metadata": {},
   "source": [
    "- Check the image shape"
   ]
  },
  {
   "cell_type": "code",
   "execution_count": null,
   "metadata": {},
   "outputs": [],
   "source": [
    "print('Train Data: ', len(train_data))\n",
    "print('Train Labels: ', len(train_labels))\n",
    "print('Train Data Shape: ', train_data[0].shape)"
   ]
  },
  {
   "cell_type": "code",
   "execution_count": null,
   "metadata": {},
   "outputs": [],
   "source": [
    "print('Valid Data: ', len(valid_data))\n",
    "print('Valid Labels: ', len(valid_labels))\n",
    "print('Valid Data Shape: ', valid_data[0].shape)"
   ]
  },
  {
   "cell_type": "code",
   "execution_count": null,
   "metadata": {},
   "outputs": [],
   "source": [
    "print('Test Data: ', len(test_data))\n",
    "print('Test Labels: ', len(test_labels))\n",
    "print('Test Data Shape: ', test_data[0].shape)"
   ]
  }
 ],
 "metadata": {
  "kernelspec": {
   "display_name": "mlcl",
   "language": "python",
   "name": "python3"
  },
  "language_info": {
   "codemirror_mode": {
    "name": "ipython",
    "version": 3
   },
   "file_extension": ".py",
   "mimetype": "text/x-python",
   "name": "python",
   "nbconvert_exporter": "python",
   "pygments_lexer": "ipython3",
   "version": "3.7.16"
  },
  "orig_nbformat": 4
 },
 "nbformat": 4,
 "nbformat_minor": 2
}
