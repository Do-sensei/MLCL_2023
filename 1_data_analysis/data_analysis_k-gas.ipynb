{
 "cells": [
  {
   "cell_type": "code",
   "execution_count": null,
   "metadata": {},
   "outputs": [],
   "source": [
    "import pandas as pd\n",
    "import os"
   ]
  },
  {
   "attachments": {},
   "cell_type": "markdown",
   "metadata": {},
   "source": [
    "# 1. Data Load\n",
    "\n",
    "- setting the data path\n",
    "- load the data with **pandas**"
   ]
  },
  {
   "cell_type": "code",
   "execution_count": null,
   "metadata": {},
   "outputs": [],
   "source": [
    "data_dir = '../data/'\n",
    "k_gas_dir = os.path.join(data_dir, 'k-gas') # k-gas data directory\n",
    "k_gas = pd.read_csv(os.path.join(k_gas_dir, 'Gas sales with temperature.csv'))"
   ]
  },
  {
   "attachments": {},
   "cell_type": "markdown",
   "metadata": {},
   "source": [
    "# 2. Data Analysis\n",
    "\n",
    "## Check the data"
   ]
  },
  {
   "cell_type": "code",
   "execution_count": null,
   "metadata": {},
   "outputs": [],
   "source": [
    "print(k_gas) # Show the data"
   ]
  },
  {
   "cell_type": "code",
   "execution_count": null,
   "metadata": {},
   "outputs": [],
   "source": [
    "print(k_gas.head()) # Show the first 5 rows"
   ]
  },
  {
   "cell_type": "code",
   "execution_count": null,
   "metadata": {},
   "outputs": [],
   "source": [
    "print(k_gas.columns) # Show the column names"
   ]
  },
  {
   "cell_type": "code",
   "execution_count": null,
   "metadata": {},
   "outputs": [],
   "source": [
    "print(k_gas.info()) # Show the summary information"
   ]
  },
  {
   "cell_type": "code",
   "execution_count": null,
   "metadata": {},
   "outputs": [],
   "source": [
    "print(k_gas.loc[0:2])"
   ]
  },
  {
   "cell_type": "code",
   "execution_count": null,
   "metadata": {},
   "outputs": [],
   "source": [
    "print(k_gas.loc[0])"
   ]
  },
  {
   "attachments": {},
   "cell_type": "markdown",
   "metadata": {},
   "source": [
    "## Plot the data\n",
    "\n",
    "1. Plot the data with `matplotlib`\n",
    "    - Plot the data\n",
    "    - Plot the label"
   ]
  },
  {
   "cell_type": "code",
   "execution_count": null,
   "metadata": {},
   "outputs": [],
   "source": [
    "import matplotlib.pyplot as plt"
   ]
  },
  {
   "attachments": {},
   "cell_type": "markdown",
   "metadata": {},
   "source": [
    "- Add the column month by year for plotting"
   ]
  },
  {
   "cell_type": "code",
   "execution_count": null,
   "metadata": {},
   "outputs": [],
   "source": [
    "k_gas['Year-Month'] = k_gas['Year'].astype(str) + '-' + k_gas['Month'].astype(str)\n"
   ]
  },
  {
   "attachments": {},
   "cell_type": "markdown",
   "metadata": {},
   "source": [
    "- Plot the `temperature`"
   ]
  },
  {
   "cell_type": "code",
   "execution_count": null,
   "metadata": {},
   "outputs": [],
   "source": [
    "k_gas['Year-Month'] = pd.to_datetime(k_gas['Year-Month'])\n",
    "\n",
    "k_gas['Year-Month'] += pd.DateOffset(months=1)\n",
    "\n",
    "# Plotting the line graph\n",
    "plt.plot(k_gas['Year-Month'], k_gas['Temperature'])\n",
    "plt.xlabel('Year-Month')\n",
    "plt.ylabel('Temperature')\n",
    "plt.title('Temperature')\n",
    "plt.xticks(rotation=45)\n",
    "\n",
    "plt.show()"
   ]
  },
  {
   "attachments": {},
   "cell_type": "markdown",
   "metadata": {},
   "source": [
    "- Make the plot **temperature** in *2019* "
   ]
  },
  {
   "cell_type": "code",
   "execution_count": null,
   "metadata": {},
   "outputs": [],
   "source": [
    "# Convert 'Year-Month' column to datetime format\n",
    "k_gas['Year-Month'] = pd.to_datetime(k_gas['Year-Month'])\n",
    "\n",
    "# Filter the dataframe for the year 2019\n",
    "k_gas_year = k_gas[k_gas['Year-Month'].dt.year == 2019]\n",
    "\n",
    "# Add one month to the 'Year-Month' column\n",
    "k_gas_year['Year-Month'] += pd.DateOffset(months=1)\n",
    "\n",
    "# Plotting the line graph\n",
    "plt.plot(k_gas_year['Year-Month'], k_gas_year['Temperature'])\n",
    "plt.xlabel('Year-Month')\n",
    "plt.ylabel('Temperature')\n",
    "plt.title('Temperature 2019')\n",
    "plt.xticks(rotation=45)\n",
    "\n",
    "# Display y-values on the plot\n",
    "for i in range(len(k_gas_year)):\n",
    "    plt.text(k_gas_year['Year-Month'].iloc[i], k_gas_year['Temperature'].iloc[i], str(k_gas_year['Temperature'].iloc[i]))\n",
    "\n",
    "plt.show()"
   ]
  },
  {
   "cell_type": "code",
   "execution_count": null,
   "metadata": {},
   "outputs": [],
   "source": [
    "k_gas_year = k_gas[k_gas['Year-Month'].dt.year == 2019]\n",
    "k_gas_year['Year-Month'] += pd.DateOffset(months=1)\n",
    "\n",
    "# Plotting the data of specific columns for the year 2019\n",
    "columns_to_plot = ['Gangwondo', 'Seoul', 'Gyeonggido', 'Incheon', 'Gyeongsangnamdo', 'Gyeongsangbukdo', 'Gwangju', 'Daegu', 'Daejeon', 'Busan', 'Sejong', 'Ulsan', 'Jeollanamdo', 'Jeollabukdo', 'Jeju', 'Chungcheongnamdo', 'Chungcheongbukdo']\n",
    "\n",
    "plt.plot(k_gas_year['Year-Month'], k_gas_year[columns_to_plot])\n",
    "# Set the plot labels and title\n",
    "plt.xlabel('Month')\n",
    "plt.ylabel('Gas sales')\n",
    "plt.title('Gas sales in 2019')\n",
    "plt.legend(columns_to_plot, loc='upper right')\n",
    "\n",
    "plt.show()"
   ]
  },
  {
   "attachments": {},
   "cell_type": "markdown",
   "metadata": {},
   "source": [
    "- make the define function for plot the data"
   ]
  },
  {
   "cell_type": "code",
   "execution_count": null,
   "metadata": {},
   "outputs": [],
   "source": [
    "def plot_temperature(year=2019):\n",
    "    k_gas['Year-Month'] = pd.to_datetime(k_gas['Year-Month'])\n",
    "\n",
    "    k_gas_year = k_gas[k_gas['Year-Month'].dt.year == year]\n",
    "\n",
    "    k_gas_year['Year-Month'] += pd.DateOffset(months=1)\n",
    "\n",
    "    plt.plot(k_gas_year['Year-Month'], k_gas_year['Temperature'])\n",
    "    plt.xlabel('Year-Month')\n",
    "    plt.ylabel('Temperature')\n",
    "    plt.title(f'Temperature {year}')\n",
    "    plt.xticks(rotation=45)\n",
    "\n",
    "\n",
    "    for i in range(len(k_gas_year)):\n",
    "        plt.text(k_gas_year['Year-Month'].iloc[i], k_gas_year['Temperature'].iloc[i], str(k_gas_year['Temperature'].iloc[i]))\n",
    "\n",
    "    plt.show()\n",
    "\n"
   ]
  },
  {
   "cell_type": "code",
   "execution_count": null,
   "metadata": {},
   "outputs": [],
   "source": [
    "plot_temperature(2002) # Plot the temperature for the year you want"
   ]
  },
  {
   "attachments": {},
   "cell_type": "markdown",
   "metadata": {},
   "source": [
    "- Make the define `Gas sales` plot function\n",
    "    - Assignment"
   ]
  },
  {
   "cell_type": "code",
   "execution_count": null,
   "metadata": {},
   "outputs": [],
   "source": [
    "def plot_gassales():\n",
    "    '''\n",
    "    input your code in below\n",
    "    \n",
    "    \n",
    "    \n",
    "    '''"
   ]
  },
  {
   "attachments": {},
   "cell_type": "markdown",
   "metadata": {},
   "source": [
    "# 3. Pandas to numpy"
   ]
  },
  {
   "cell_type": "code",
   "execution_count": null,
   "metadata": {},
   "outputs": [],
   "source": [
    "k_gas.head()"
   ]
  },
  {
   "attachments": {},
   "cell_type": "markdown",
   "metadata": {},
   "source": [
    "- select what is used the *label* and *data*\n",
    "- Convert the `pandas` to `numpy`"
   ]
  },
  {
   "cell_type": "code",
   "execution_count": null,
   "metadata": {},
   "outputs": [],
   "source": [
    "k_gas_temp_df = k_gas['Temperature'] \n",
    "\n",
    "k_gas_temp = k_gas_temp_df.to_numpy() # Convert to numpy array\n",
    "\n",
    "label = k_gas_temp\n",
    "print(label[:5])"
   ]
  },
  {
   "cell_type": "code",
   "execution_count": null,
   "metadata": {},
   "outputs": [],
   "source": [
    "k_gas_data_df = k_gas.drop(['Year', 'Month', 'Sum', 'Year-Month'], axis=1) # Drop columns\n",
    "\n",
    "k_gas_data = k_gas_data_df.to_numpy() # Convert to numpy array\n",
    "\n",
    "data = k_gas_data\n",
    "print(data[:5])"
   ]
  },
  {
   "cell_type": "code",
   "execution_count": null,
   "metadata": {},
   "outputs": [],
   "source": [
    "print(f\"Lenth of data: {len(data)}, Length of label: {len(label)}\")"
   ]
  },
  {
   "cell_type": "code",
   "execution_count": null,
   "metadata": {},
   "outputs": [],
   "source": [
    "print('data shape: ', data.shape) \n",
    "print('label shape: ', label.shape) "
   ]
  }
 ],
 "metadata": {
  "kernelspec": {
   "display_name": "mlcl",
   "language": "python",
   "name": "python3"
  },
  "language_info": {
   "codemirror_mode": {
    "name": "ipython",
    "version": 3
   },
   "file_extension": ".py",
   "mimetype": "text/x-python",
   "name": "python",
   "nbconvert_exporter": "python",
   "pygments_lexer": "ipython3",
   "version": "3.11.3"
  },
  "orig_nbformat": 4
 },
 "nbformat": 4,
 "nbformat_minor": 2
}
